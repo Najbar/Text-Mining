{
 "cells": [
  {
   "cell_type": "markdown",
   "metadata": {},
   "source": [
    "## Załadowanie podstawowych bibliotek"
   ]
  },
  {
   "cell_type": "code",
   "execution_count": 107,
   "metadata": {},
   "outputs": [
    {
     "name": "stderr",
     "output_type": "stream",
     "text": [
      "[nltk_data] Downloading package punkt to\n",
      "[nltk_data]     /home/mion/s/259/mnajbar/nltk_data...\n",
      "[nltk_data]   Package punkt is already up-to-date!\n"
     ]
    }
   ],
   "source": [
    "import pandas as pd\n",
    "import numpy as np\n",
    "import re\n",
    "from tqdm import tqdm\n",
    "import nltk\n",
    "from nltk.corpus import stopwords\n",
    "nltk.download('punkt')\n",
    "\n",
    "import seaborn as sns\n",
    "import matplotlib.pyplot as plt\n",
    "%matplotlib inline"
   ]
  },
  {
   "cell_type": "markdown",
   "metadata": {},
   "source": [
    "## Przygotowanie danych\n",
    "#### Wczytywanie danych w formacie .csv"
   ]
  },
  {
   "cell_type": "code",
   "execution_count": 108,
   "metadata": {},
   "outputs": [],
   "source": [
    "fake = pd.read_csv(\"Fake.csv\", sep = \",\")\n",
    "fake['fake_news_flag'] = 1\n",
    "\n",
    "true = pd.read_csv(\"True.csv\", sep = \",\")\n",
    "true['fake_news_flag'] = 0"
   ]
  },
  {
   "cell_type": "code",
   "execution_count": 109,
   "metadata": {},
   "outputs": [],
   "source": [
    "# true.shape\n",
    "# false.shape"
   ]
  },
  {
   "cell_type": "markdown",
   "metadata": {},
   "source": [
    "#### Stworzenie zbioru news jako połączenia zbiorów fake i true"
   ]
  },
  {
   "cell_type": "code",
   "execution_count": 110,
   "metadata": {},
   "outputs": [
    {
     "data": {
      "text/html": [
       "<div>\n",
       "<style scoped>\n",
       "    .dataframe tbody tr th:only-of-type {\n",
       "        vertical-align: middle;\n",
       "    }\n",
       "\n",
       "    .dataframe tbody tr th {\n",
       "        vertical-align: top;\n",
       "    }\n",
       "\n",
       "    .dataframe thead th {\n",
       "        text-align: right;\n",
       "    }\n",
       "</style>\n",
       "<table border=\"1\" class=\"dataframe\">\n",
       "  <thead>\n",
       "    <tr style=\"text-align: right;\">\n",
       "      <th></th>\n",
       "      <th>title</th>\n",
       "      <th>text</th>\n",
       "      <th>subject</th>\n",
       "      <th>date</th>\n",
       "      <th>fake_news_flag</th>\n",
       "    </tr>\n",
       "  </thead>\n",
       "  <tbody>\n",
       "    <tr>\n",
       "      <th>0</th>\n",
       "      <td>Donald Trump Sends Out Embarrassing New Year’...</td>\n",
       "      <td>Donald Trump just couldn t wish all Americans ...</td>\n",
       "      <td>News</td>\n",
       "      <td>December 31, 2017</td>\n",
       "      <td>1</td>\n",
       "    </tr>\n",
       "    <tr>\n",
       "      <th>1</th>\n",
       "      <td>Drunk Bragging Trump Staffer Started Russian ...</td>\n",
       "      <td>House Intelligence Committee Chairman Devin Nu...</td>\n",
       "      <td>News</td>\n",
       "      <td>December 31, 2017</td>\n",
       "      <td>1</td>\n",
       "    </tr>\n",
       "    <tr>\n",
       "      <th>2</th>\n",
       "      <td>Sheriff David Clarke Becomes An Internet Joke...</td>\n",
       "      <td>On Friday, it was revealed that former Milwauk...</td>\n",
       "      <td>News</td>\n",
       "      <td>December 30, 2017</td>\n",
       "      <td>1</td>\n",
       "    </tr>\n",
       "    <tr>\n",
       "      <th>3</th>\n",
       "      <td>Trump Is So Obsessed He Even Has Obama’s Name...</td>\n",
       "      <td>On Christmas day, Donald Trump announced that ...</td>\n",
       "      <td>News</td>\n",
       "      <td>December 29, 2017</td>\n",
       "      <td>1</td>\n",
       "    </tr>\n",
       "    <tr>\n",
       "      <th>4</th>\n",
       "      <td>Pope Francis Just Called Out Donald Trump Dur...</td>\n",
       "      <td>Pope Francis used his annual Christmas Day mes...</td>\n",
       "      <td>News</td>\n",
       "      <td>December 25, 2017</td>\n",
       "      <td>1</td>\n",
       "    </tr>\n",
       "  </tbody>\n",
       "</table>\n",
       "</div>"
      ],
      "text/plain": [
       "                                               title  \\\n",
       "0   Donald Trump Sends Out Embarrassing New Year’...   \n",
       "1   Drunk Bragging Trump Staffer Started Russian ...   \n",
       "2   Sheriff David Clarke Becomes An Internet Joke...   \n",
       "3   Trump Is So Obsessed He Even Has Obama’s Name...   \n",
       "4   Pope Francis Just Called Out Donald Trump Dur...   \n",
       "\n",
       "                                                text subject  \\\n",
       "0  Donald Trump just couldn t wish all Americans ...    News   \n",
       "1  House Intelligence Committee Chairman Devin Nu...    News   \n",
       "2  On Friday, it was revealed that former Milwauk...    News   \n",
       "3  On Christmas day, Donald Trump announced that ...    News   \n",
       "4  Pope Francis used his annual Christmas Day mes...    News   \n",
       "\n",
       "                date  fake_news_flag  \n",
       "0  December 31, 2017               1  \n",
       "1  December 31, 2017               1  \n",
       "2  December 30, 2017               1  \n",
       "3  December 29, 2017               1  \n",
       "4  December 25, 2017               1  "
      ]
     },
     "execution_count": 110,
     "metadata": {},
     "output_type": "execute_result"
    }
   ],
   "source": [
    "news = pd.concat([fake, true])\n",
    "news.head()"
   ]
  },
  {
   "cell_type": "markdown",
   "metadata": {},
   "source": [
    "#### Zredukowanie zbioru do 10% próbki danych"
   ]
  },
  {
   "cell_type": "code",
   "execution_count": 111,
   "metadata": {},
   "outputs": [],
   "source": [
    "news = news.sample(frac = 0.1)"
   ]
  },
  {
   "cell_type": "code",
   "execution_count": 112,
   "metadata": {},
   "outputs": [
    {
     "name": "stdout",
     "output_type": "stream",
     "text": [
      "(4490, 5)\n",
      "<class 'pandas.core.frame.DataFrame'>\n",
      "Int64Index: 4490 entries, 8807 to 16873\n",
      "Data columns (total 5 columns):\n",
      " #   Column          Non-Null Count  Dtype \n",
      "---  ------          --------------  ----- \n",
      " 0   title           4490 non-null   object\n",
      " 1   text            4490 non-null   object\n",
      " 2   subject         4490 non-null   object\n",
      " 3   date            4490 non-null   object\n",
      " 4   fake_news_flag  4490 non-null   int64 \n",
      "dtypes: int64(1), object(4)\n",
      "memory usage: 210.5+ KB\n",
      "None\n"
     ]
    }
   ],
   "source": [
    "print(news.shape)\n",
    "print(news.info())"
   ]
  },
  {
   "cell_type": "markdown",
   "metadata": {},
   "source": [
    "#### Oczyszczanie danych w kolumnie text"
   ]
  },
  {
   "cell_type": "code",
   "execution_count": 113,
   "metadata": {},
   "outputs": [],
   "source": [
    "def preprocessor(text):\n",
    "    text = re.sub('<[^>]*>', '', text)\n",
    "    emoticons = re.findall('(?::|;|=)(?:-)?(?:\\)|\\(|D|P)', text)\n",
    "    text = re.sub('[\\W]+', ' ', text.lower()) +\\\n",
    "        ' '.join(emoticons).replace('-', '')\n",
    "    return text"
   ]
  },
  {
   "cell_type": "code",
   "execution_count": 114,
   "metadata": {},
   "outputs": [],
   "source": [
    "news[\"text_cleaned\"] = news['text'].apply(preprocessor)"
   ]
  },
  {
   "cell_type": "code",
   "execution_count": 115,
   "metadata": {},
   "outputs": [
    {
     "data": {
      "text/html": [
       "<div>\n",
       "<style scoped>\n",
       "    .dataframe tbody tr th:only-of-type {\n",
       "        vertical-align: middle;\n",
       "    }\n",
       "\n",
       "    .dataframe tbody tr th {\n",
       "        vertical-align: top;\n",
       "    }\n",
       "\n",
       "    .dataframe thead th {\n",
       "        text-align: right;\n",
       "    }\n",
       "</style>\n",
       "<table border=\"1\" class=\"dataframe\">\n",
       "  <thead>\n",
       "    <tr style=\"text-align: right;\">\n",
       "      <th></th>\n",
       "      <th>title</th>\n",
       "      <th>text</th>\n",
       "      <th>subject</th>\n",
       "      <th>date</th>\n",
       "      <th>fake_news_flag</th>\n",
       "      <th>text_cleaned</th>\n",
       "    </tr>\n",
       "  </thead>\n",
       "  <tbody>\n",
       "    <tr>\n",
       "      <th>8807</th>\n",
       "      <td>Populism is a 'dangerous' trend in EU, U.S.: E...</td>\n",
       "      <td>BEIJING (Reuters) - European Trade Commissione...</td>\n",
       "      <td>politicsNews</td>\n",
       "      <td>July 11, 2016</td>\n",
       "      <td>0</td>\n",
       "      <td>beijing reuters european trade commissioner ce...</td>\n",
       "    </tr>\n",
       "    <tr>\n",
       "      <th>10508</th>\n",
       "      <td>BREAKING: CNN PRODUCER Caught On Undercover Vi...</td>\n",
       "      <td>Project Veritas  newest video from the America...</td>\n",
       "      <td>politics</td>\n",
       "      <td>Jun 30, 2017</td>\n",
       "      <td>1</td>\n",
       "      <td>project veritas newest video from the american...</td>\n",
       "    </tr>\n",
       "    <tr>\n",
       "      <th>11662</th>\n",
       "      <td>VIOLENT NPR EMPLOYEE Who Is Also A Refugee ARR...</td>\n",
       "      <td>On Monday Politico reported that a protester w...</td>\n",
       "      <td>politics</td>\n",
       "      <td>Feb 14, 2017</td>\n",
       "      <td>1</td>\n",
       "      <td>on monday politico reported that a protester w...</td>\n",
       "    </tr>\n",
       "    <tr>\n",
       "      <th>18931</th>\n",
       "      <td>Half of Filipinos don't believe police account...</td>\n",
       "      <td>MANILA (Reuters) - Around half of Filipinos be...</td>\n",
       "      <td>worldnews</td>\n",
       "      <td>September 27, 2017</td>\n",
       "      <td>0</td>\n",
       "      <td>manila reuters around half of filipinos believ...</td>\n",
       "    </tr>\n",
       "    <tr>\n",
       "      <th>11468</th>\n",
       "      <td>Congo Republic signs peace accord with 'Ninja'...</td>\n",
       "      <td>BRAZZAVILLE (Reuters) - The government of Cong...</td>\n",
       "      <td>worldnews</td>\n",
       "      <td>December 23, 2017</td>\n",
       "      <td>0</td>\n",
       "      <td>brazzaville reuters the government of congo re...</td>\n",
       "    </tr>\n",
       "  </tbody>\n",
       "</table>\n",
       "</div>"
      ],
      "text/plain": [
       "                                                   title  \\\n",
       "8807   Populism is a 'dangerous' trend in EU, U.S.: E...   \n",
       "10508  BREAKING: CNN PRODUCER Caught On Undercover Vi...   \n",
       "11662  VIOLENT NPR EMPLOYEE Who Is Also A Refugee ARR...   \n",
       "18931  Half of Filipinos don't believe police account...   \n",
       "11468  Congo Republic signs peace accord with 'Ninja'...   \n",
       "\n",
       "                                                    text       subject  \\\n",
       "8807   BEIJING (Reuters) - European Trade Commissione...  politicsNews   \n",
       "10508  Project Veritas  newest video from the America...      politics   \n",
       "11662  On Monday Politico reported that a protester w...      politics   \n",
       "18931  MANILA (Reuters) - Around half of Filipinos be...     worldnews   \n",
       "11468  BRAZZAVILLE (Reuters) - The government of Cong...     worldnews   \n",
       "\n",
       "                      date  fake_news_flag  \\\n",
       "8807        July 11, 2016                0   \n",
       "10508         Jun 30, 2017               1   \n",
       "11662         Feb 14, 2017               1   \n",
       "18931  September 27, 2017                0   \n",
       "11468   December 23, 2017                0   \n",
       "\n",
       "                                            text_cleaned  \n",
       "8807   beijing reuters european trade commissioner ce...  \n",
       "10508  project veritas newest video from the american...  \n",
       "11662  on monday politico reported that a protester w...  \n",
       "18931  manila reuters around half of filipinos believ...  \n",
       "11468  brazzaville reuters the government of congo re...  "
      ]
     },
     "execution_count": 115,
     "metadata": {},
     "output_type": "execute_result"
    }
   ],
   "source": [
    "news.head()"
   ]
  },
  {
   "cell_type": "code",
   "execution_count": 116,
   "metadata": {},
   "outputs": [],
   "source": [
    "news[\"title\"] = news['title'].apply(preprocessor)"
   ]
  },
  {
   "cell_type": "code",
   "execution_count": 117,
   "metadata": {},
   "outputs": [
    {
     "data": {
      "text/html": [
       "<div>\n",
       "<style scoped>\n",
       "    .dataframe tbody tr th:only-of-type {\n",
       "        vertical-align: middle;\n",
       "    }\n",
       "\n",
       "    .dataframe tbody tr th {\n",
       "        vertical-align: top;\n",
       "    }\n",
       "\n",
       "    .dataframe thead th {\n",
       "        text-align: right;\n",
       "    }\n",
       "</style>\n",
       "<table border=\"1\" class=\"dataframe\">\n",
       "  <thead>\n",
       "    <tr style=\"text-align: right;\">\n",
       "      <th></th>\n",
       "      <th>title</th>\n",
       "      <th>text</th>\n",
       "      <th>subject</th>\n",
       "      <th>date</th>\n",
       "      <th>fake_news_flag</th>\n",
       "      <th>text_cleaned</th>\n",
       "    </tr>\n",
       "  </thead>\n",
       "  <tbody>\n",
       "    <tr>\n",
       "      <th>8807</th>\n",
       "      <td>populism is a dangerous trend in eu u s eu tra...</td>\n",
       "      <td>BEIJING (Reuters) - European Trade Commissione...</td>\n",
       "      <td>politicsNews</td>\n",
       "      <td>July 11, 2016</td>\n",
       "      <td>0</td>\n",
       "      <td>beijing reuters european trade commissioner ce...</td>\n",
       "    </tr>\n",
       "    <tr>\n",
       "      <th>10508</th>\n",
       "      <td>breaking cnn producer caught on undercover vid...</td>\n",
       "      <td>Project Veritas  newest video from the America...</td>\n",
       "      <td>politics</td>\n",
       "      <td>Jun 30, 2017</td>\n",
       "      <td>1</td>\n",
       "      <td>project veritas newest video from the american...</td>\n",
       "    </tr>\n",
       "    <tr>\n",
       "      <th>11662</th>\n",
       "      <td>violent npr employee who is also a refugee arr...</td>\n",
       "      <td>On Monday Politico reported that a protester w...</td>\n",
       "      <td>politics</td>\n",
       "      <td>Feb 14, 2017</td>\n",
       "      <td>1</td>\n",
       "      <td>on monday politico reported that a protester w...</td>\n",
       "    </tr>\n",
       "    <tr>\n",
       "      <th>18931</th>\n",
       "      <td>half of filipinos don t believe police account...</td>\n",
       "      <td>MANILA (Reuters) - Around half of Filipinos be...</td>\n",
       "      <td>worldnews</td>\n",
       "      <td>September 27, 2017</td>\n",
       "      <td>0</td>\n",
       "      <td>manila reuters around half of filipinos believ...</td>\n",
       "    </tr>\n",
       "    <tr>\n",
       "      <th>11468</th>\n",
       "      <td>congo republic signs peace accord with ninja r...</td>\n",
       "      <td>BRAZZAVILLE (Reuters) - The government of Cong...</td>\n",
       "      <td>worldnews</td>\n",
       "      <td>December 23, 2017</td>\n",
       "      <td>0</td>\n",
       "      <td>brazzaville reuters the government of congo re...</td>\n",
       "    </tr>\n",
       "  </tbody>\n",
       "</table>\n",
       "</div>"
      ],
      "text/plain": [
       "                                                   title  \\\n",
       "8807   populism is a dangerous trend in eu u s eu tra...   \n",
       "10508  breaking cnn producer caught on undercover vid...   \n",
       "11662  violent npr employee who is also a refugee arr...   \n",
       "18931  half of filipinos don t believe police account...   \n",
       "11468  congo republic signs peace accord with ninja r...   \n",
       "\n",
       "                                                    text       subject  \\\n",
       "8807   BEIJING (Reuters) - European Trade Commissione...  politicsNews   \n",
       "10508  Project Veritas  newest video from the America...      politics   \n",
       "11662  On Monday Politico reported that a protester w...      politics   \n",
       "18931  MANILA (Reuters) - Around half of Filipinos be...     worldnews   \n",
       "11468  BRAZZAVILLE (Reuters) - The government of Cong...     worldnews   \n",
       "\n",
       "                      date  fake_news_flag  \\\n",
       "8807        July 11, 2016                0   \n",
       "10508         Jun 30, 2017               1   \n",
       "11662         Feb 14, 2017               1   \n",
       "18931  September 27, 2017                0   \n",
       "11468   December 23, 2017                0   \n",
       "\n",
       "                                            text_cleaned  \n",
       "8807   beijing reuters european trade commissioner ce...  \n",
       "10508  project veritas newest video from the american...  \n",
       "11662  on monday politico reported that a protester w...  \n",
       "18931  manila reuters around half of filipinos believ...  \n",
       "11468  brazzaville reuters the government of congo re...  "
      ]
     },
     "execution_count": 117,
     "metadata": {},
     "output_type": "execute_result"
    }
   ],
   "source": [
    "news.head()"
   ]
  },
  {
   "cell_type": "code",
   "execution_count": 118,
   "metadata": {},
   "outputs": [
    {
     "data": {
      "text/plain": [
       "False    4490\n",
       "Name: text, dtype: int64"
      ]
     },
     "execution_count": 118,
     "metadata": {},
     "output_type": "execute_result"
    }
   ],
   "source": [
    "news[\"text\"].isna().value_counts()"
   ]
  },
  {
   "cell_type": "markdown",
   "metadata": {},
   "source": [
    "#### Tokenizacja danych"
   ]
  },
  {
   "cell_type": "code",
   "execution_count": 119,
   "metadata": {},
   "outputs": [],
   "source": [
    "from nltk import word_tokenize\n",
    "tqdm.pandas()"
   ]
  },
  {
   "cell_type": "code",
   "execution_count": 120,
   "metadata": {},
   "outputs": [
    {
     "name": "stderr",
     "output_type": "stream",
     "text": [
      "100%|██████████| 4490/4490 [00:13<00:00, 322.05it/s]\n"
     ]
    }
   ],
   "source": [
    "news[\"text_tokenized\"] = news['text'].progress_apply(word_tokenize)"
   ]
  },
  {
   "cell_type": "markdown",
   "metadata": {},
   "source": [
    "#### Stematyzacja danych"
   ]
  },
  {
   "cell_type": "code",
   "execution_count": 121,
   "metadata": {},
   "outputs": [],
   "source": [
    "from nltk.stem import PorterStemmer\n",
    "\n",
    "porter = PorterStemmer()\n",
    "\n",
    "def tokenizer_porter(tokens):\n",
    "    return [porter.stem(token) for token in tokens]"
   ]
  },
  {
   "cell_type": "code",
   "execution_count": 122,
   "metadata": {},
   "outputs": [
    {
     "name": "stderr",
     "output_type": "stream",
     "text": [
      "100%|██████████| 4490/4490 [00:26<00:00, 168.25it/s]\n"
     ]
    }
   ],
   "source": [
    "news['text_stemmed'] = news['text_tokenized'].progress_apply(tokenizer_porter)"
   ]
  },
  {
   "cell_type": "code",
   "execution_count": 123,
   "metadata": {},
   "outputs": [
    {
     "data": {
      "text/html": [
       "<div>\n",
       "<style scoped>\n",
       "    .dataframe tbody tr th:only-of-type {\n",
       "        vertical-align: middle;\n",
       "    }\n",
       "\n",
       "    .dataframe tbody tr th {\n",
       "        vertical-align: top;\n",
       "    }\n",
       "\n",
       "    .dataframe thead th {\n",
       "        text-align: right;\n",
       "    }\n",
       "</style>\n",
       "<table border=\"1\" class=\"dataframe\">\n",
       "  <thead>\n",
       "    <tr style=\"text-align: right;\">\n",
       "      <th></th>\n",
       "      <th>title</th>\n",
       "      <th>text</th>\n",
       "      <th>subject</th>\n",
       "      <th>date</th>\n",
       "      <th>fake_news_flag</th>\n",
       "      <th>text_cleaned</th>\n",
       "      <th>text_tokenized</th>\n",
       "      <th>text_stemmed</th>\n",
       "    </tr>\n",
       "  </thead>\n",
       "  <tbody>\n",
       "    <tr>\n",
       "      <th>8807</th>\n",
       "      <td>populism is a dangerous trend in eu u s eu tra...</td>\n",
       "      <td>BEIJING (Reuters) - European Trade Commissione...</td>\n",
       "      <td>politicsNews</td>\n",
       "      <td>July 11, 2016</td>\n",
       "      <td>0</td>\n",
       "      <td>beijing reuters european trade commissioner ce...</td>\n",
       "      <td>[BEIJING, (, Reuters, ), -, European, Trade, C...</td>\n",
       "      <td>[beij, (, reuter, ), -, european, trade, commi...</td>\n",
       "    </tr>\n",
       "    <tr>\n",
       "      <th>10508</th>\n",
       "      <td>breaking cnn producer caught on undercover vid...</td>\n",
       "      <td>Project Veritas  newest video from the America...</td>\n",
       "      <td>politics</td>\n",
       "      <td>Jun 30, 2017</td>\n",
       "      <td>1</td>\n",
       "      <td>project veritas newest video from the american...</td>\n",
       "      <td>[Project, Veritas, newest, video, from, the, A...</td>\n",
       "      <td>[project, verita, newest, video, from, the, am...</td>\n",
       "    </tr>\n",
       "    <tr>\n",
       "      <th>11662</th>\n",
       "      <td>violent npr employee who is also a refugee arr...</td>\n",
       "      <td>On Monday Politico reported that a protester w...</td>\n",
       "      <td>politics</td>\n",
       "      <td>Feb 14, 2017</td>\n",
       "      <td>1</td>\n",
       "      <td>on monday politico reported that a protester w...</td>\n",
       "      <td>[On, Monday, Politico, reported, that, a, prot...</td>\n",
       "      <td>[On, monday, politico, report, that, a, protes...</td>\n",
       "    </tr>\n",
       "    <tr>\n",
       "      <th>18931</th>\n",
       "      <td>half of filipinos don t believe police account...</td>\n",
       "      <td>MANILA (Reuters) - Around half of Filipinos be...</td>\n",
       "      <td>worldnews</td>\n",
       "      <td>September 27, 2017</td>\n",
       "      <td>0</td>\n",
       "      <td>manila reuters around half of filipinos believ...</td>\n",
       "      <td>[MANILA, (, Reuters, ), -, Around, half, of, F...</td>\n",
       "      <td>[manila, (, reuter, ), -, around, half, of, fi...</td>\n",
       "    </tr>\n",
       "    <tr>\n",
       "      <th>11468</th>\n",
       "      <td>congo republic signs peace accord with ninja r...</td>\n",
       "      <td>BRAZZAVILLE (Reuters) - The government of Cong...</td>\n",
       "      <td>worldnews</td>\n",
       "      <td>December 23, 2017</td>\n",
       "      <td>0</td>\n",
       "      <td>brazzaville reuters the government of congo re...</td>\n",
       "      <td>[BRAZZAVILLE, (, Reuters, ), -, The, governmen...</td>\n",
       "      <td>[brazzavil, (, reuter, ), -, the, govern, of, ...</td>\n",
       "    </tr>\n",
       "  </tbody>\n",
       "</table>\n",
       "</div>"
      ],
      "text/plain": [
       "                                                   title  \\\n",
       "8807   populism is a dangerous trend in eu u s eu tra...   \n",
       "10508  breaking cnn producer caught on undercover vid...   \n",
       "11662  violent npr employee who is also a refugee arr...   \n",
       "18931  half of filipinos don t believe police account...   \n",
       "11468  congo republic signs peace accord with ninja r...   \n",
       "\n",
       "                                                    text       subject  \\\n",
       "8807   BEIJING (Reuters) - European Trade Commissione...  politicsNews   \n",
       "10508  Project Veritas  newest video from the America...      politics   \n",
       "11662  On Monday Politico reported that a protester w...      politics   \n",
       "18931  MANILA (Reuters) - Around half of Filipinos be...     worldnews   \n",
       "11468  BRAZZAVILLE (Reuters) - The government of Cong...     worldnews   \n",
       "\n",
       "                      date  fake_news_flag  \\\n",
       "8807        July 11, 2016                0   \n",
       "10508         Jun 30, 2017               1   \n",
       "11662         Feb 14, 2017               1   \n",
       "18931  September 27, 2017                0   \n",
       "11468   December 23, 2017                0   \n",
       "\n",
       "                                            text_cleaned  \\\n",
       "8807   beijing reuters european trade commissioner ce...   \n",
       "10508  project veritas newest video from the american...   \n",
       "11662  on monday politico reported that a protester w...   \n",
       "18931  manila reuters around half of filipinos believ...   \n",
       "11468  brazzaville reuters the government of congo re...   \n",
       "\n",
       "                                          text_tokenized  \\\n",
       "8807   [BEIJING, (, Reuters, ), -, European, Trade, C...   \n",
       "10508  [Project, Veritas, newest, video, from, the, A...   \n",
       "11662  [On, Monday, Politico, reported, that, a, prot...   \n",
       "18931  [MANILA, (, Reuters, ), -, Around, half, of, F...   \n",
       "11468  [BRAZZAVILLE, (, Reuters, ), -, The, governmen...   \n",
       "\n",
       "                                            text_stemmed  \n",
       "8807   [beij, (, reuter, ), -, european, trade, commi...  \n",
       "10508  [project, verita, newest, video, from, the, am...  \n",
       "11662  [On, monday, politico, report, that, a, protes...  \n",
       "18931  [manila, (, reuter, ), -, around, half, of, fi...  \n",
       "11468  [brazzavil, (, reuter, ), -, the, govern, of, ...  "
      ]
     },
     "execution_count": 123,
     "metadata": {},
     "output_type": "execute_result"
    }
   ],
   "source": [
    "news.head()"
   ]
  },
  {
   "cell_type": "code",
   "execution_count": 124,
   "metadata": {},
   "outputs": [
    {
     "data": {
      "text/plain": [
       "title             0\n",
       "text              0\n",
       "subject           0\n",
       "date              0\n",
       "fake_news_flag    0\n",
       "text_cleaned      0\n",
       "text_tokenized    0\n",
       "text_stemmed      0\n",
       "dtype: int64"
      ]
     },
     "execution_count": 124,
     "metadata": {},
     "output_type": "execute_result"
    }
   ],
   "source": [
    "news.isna().sum()\n",
    "# news = news.dropna(subset=['text'])"
   ]
  },
  {
   "cell_type": "code",
   "execution_count": 125,
   "metadata": {},
   "outputs": [
    {
     "data": {
      "text/plain": [
       "title             0\n",
       "text              0\n",
       "subject           0\n",
       "date              0\n",
       "fake_news_flag    0\n",
       "text_cleaned      0\n",
       "text_tokenized    0\n",
       "text_stemmed      0\n",
       "dtype: int64"
      ]
     },
     "execution_count": 125,
     "metadata": {},
     "output_type": "execute_result"
    }
   ],
   "source": [
    "news.isnull().sum()"
   ]
  },
  {
   "cell_type": "code",
   "execution_count": 126,
   "metadata": {},
   "outputs": [
    {
     "data": {
      "text/plain": [
       "0"
      ]
     },
     "execution_count": 126,
     "metadata": {},
     "output_type": "execute_result"
    }
   ],
   "source": [
    "sum(news[\"text\"]=='')"
   ]
  },
  {
   "cell_type": "markdown",
   "metadata": {},
   "source": [
    "## Analiza danych"
   ]
  },
  {
   "cell_type": "markdown",
   "metadata": {},
   "source": [
    "#### Analiza kolumny fake_news_flag"
   ]
  },
  {
   "cell_type": "code",
   "execution_count": 127,
   "metadata": {},
   "outputs": [
    {
     "data": {
      "text/plain": [
       "1    2440\n",
       "0    2050\n",
       "Name: fake_news_flag, dtype: int64"
      ]
     },
     "execution_count": 127,
     "metadata": {},
     "output_type": "execute_result"
    }
   ],
   "source": [
    "news['fake_news_flag'].value_counts()"
   ]
  },
  {
   "cell_type": "markdown",
   "metadata": {},
   "source": [
    "#### Analiza kolumny subject"
   ]
  },
  {
   "cell_type": "code",
   "execution_count": 128,
   "metadata": {},
   "outputs": [
    {
     "data": {
      "text/plain": [
       "worldnews          1028\n",
       "politicsNews       1022\n",
       "News                951\n",
       "politics            697\n",
       "left-news           457\n",
       "Government News     165\n",
       "US_News              90\n",
       "Middle-east          80\n",
       "Name: subject, dtype: int64"
      ]
     },
     "execution_count": 128,
     "metadata": {},
     "output_type": "execute_result"
    }
   ],
   "source": [
    "news['subject'].value_counts()"
   ]
  },
  {
   "cell_type": "code",
   "execution_count": 129,
   "metadata": {},
   "outputs": [
    {
     "data": {
      "image/png": "[encoded data removed]",
      "text/plain": [
       "<Figure size 432x288 with 1 Axes>"
      ]
     },
     "metadata": {},
     "output_type": "display_data"
    }
   ],
   "source": [
    "plot = plt.pie(news['subject'].value_counts(), labels = news['subject'].value_counts().index, autopct='%1.0f%%')\n",
    "plt.show()"
   ]
  },
  {
   "cell_type": "markdown",
   "metadata": {},
   "source": [
    "#### Analiza kolumny text"
   ]
  },
  {
   "cell_type": "code",
   "execution_count": 130,
   "metadata": {},
   "outputs": [],
   "source": [
    "from collections import Counter"
   ]
  },
  {
   "cell_type": "code",
   "execution_count": 131,
   "metadata": {},
   "outputs": [
    {
     "name": "stdout",
     "output_type": "stream",
     "text": [
      "Histogram liczby znaków w newsach\n"
     ]
    },
    {
     "data": {
      "text/plain": [
       "count    4490.000000\n",
       "mean      404.991759\n",
       "std       331.902209\n",
       "min         0.000000\n",
       "25%       205.000000\n",
       "50%       363.000000\n",
       "75%       511.000000\n",
       "max      7033.000000\n",
       "Name: text, dtype: float64"
      ]
     },
     "execution_count": 131,
     "metadata": {},
     "output_type": "execute_result"
    },
    {
     "data": {
      "image/png": "[encoded data removed]",
      "text/plain": [
       "<Figure size 432x288 with 1 Axes>"
      ]
     },
     "metadata": {
      "needs_background": "light"
     },
     "output_type": "display_data"
    }
   ],
   "source": [
    "word_count = news['text'].str.split().map(lambda x: len(x))\n",
    "word_count.hist()\n",
    "print(\"Histogram liczby znaków w newsach\")\n",
    "word_count.describe()"
   ]
  },
  {
   "cell_type": "code",
   "execution_count": 132,
   "metadata": {},
   "outputs": [],
   "source": [
    "corpus = []\n",
    "for x in news['text'].str.split():\n",
    "    corpus.extend(x)\n",
    "\n",
    "# len(corpus)\n",
    "counter = Counter(corpus)"
   ]
  },
  {
   "cell_type": "code",
   "execution_count": 133,
   "metadata": {},
   "outputs": [
    {
     "name": "stdout",
     "output_type": "stream",
     "text": [
      "[('the', 90324), ('to', 53021), ('of', 43636), ('and', 39159), ('a', 38288), ('in', 31963), ('that', 22318), ('on', 17897), ('s', 17862), ('for', 16617)]\n"
     ]
    }
   ],
   "source": [
    "most = counter.most_common()\n",
    "print(most[0:10])"
   ]
  },
  {
   "cell_type": "code",
   "execution_count": 134,
   "metadata": {},
   "outputs": [
    {
     "name": "stderr",
     "output_type": "stream",
     "text": [
      "[nltk_data] Downloading package stopwords to\n",
      "[nltk_data]     /home/mion/s/259/mnajbar/nltk_data...\n",
      "[nltk_data]   Package stopwords is already up-to-date!\n"
     ]
    }
   ],
   "source": [
    "nltk.download('stopwords')\n",
    "stop = set(stopwords.words('english'))"
   ]
  },
  {
   "cell_type": "code",
   "execution_count": 135,
   "metadata": {},
   "outputs": [],
   "source": [
    "most_nostop = []\n",
    "for word, count in most:\n",
    "    if word.lower() not in stop:\n",
    "        most_nostop.append((word, count))"
   ]
  },
  {
   "cell_type": "code",
   "execution_count": 136,
   "metadata": {},
   "outputs": [
    {
     "name": "stdout",
     "output_type": "stream",
     "text": [
      "40 najczęściej występujących slów w korpusie\n"
     ]
    },
    {
     "data": {
      "image/png": "[encoded data removed]",
      "text/plain": [
       "<Figure size 720x720 with 1 Axes>"
      ]
     },
     "metadata": {
      "needs_background": "light"
     },
     "output_type": "display_data"
    }
   ],
   "source": [
    "first_n = 40\n",
    "x, y= [], []\n",
    "for word,count in most_nostop[:first_n]:\n",
    "        x.append(word)\n",
    "        y.append(count)\n",
    "\n",
    "plt.figure(figsize=(10, 10))\n",
    "sns.barplot(x=y,y=x)\n",
    "print(f\"{first_n} najczęściej występujących slów w korpusie\")"
   ]
  },
  {
   "cell_type": "markdown",
   "metadata": {},
   "source": [
    "## Trenowanie  modelu opartego o reprezentację BoW"
   ]
  },
  {
   "cell_type": "markdown",
   "metadata": {},
   "source": [
    "#### Przygotowanie danych do modelu"
   ]
  },
  {
   "cell_type": "code",
   "execution_count": 137,
   "metadata": {},
   "outputs": [],
   "source": [
    "from sklearn.model_selection import train_test_split\n",
    "from sklearn.metrics import accuracy_score, classification_report, confusion_matrix"
   ]
  },
  {
   "cell_type": "code",
   "execution_count": 138,
   "metadata": {},
   "outputs": [],
   "source": [
    "X_train, X_test, y_train, y_test = train_test_split(news[\"text_stemmed\"], news[\"fake_news_flag\"], test_size=0.3, random_state=42)"
   ]
  },
  {
   "cell_type": "code",
   "execution_count": 139,
   "metadata": {},
   "outputs": [
    {
     "name": "stdout",
     "output_type": "stream",
     "text": [
      "17926    [(, reuter, ), -, about, six, in, 10, peopl, w...\n",
      "8181     [presid, obama, is, near, the, end, of, hi, ti...\n",
      "Name: text_stemmed, dtype: object\n",
      "17926    0\n",
      "8181     1\n",
      "Name: fake_news_flag, dtype: int64\n",
      "(3143,)\n",
      "(3143,)\n",
      "(1347,)\n",
      "(1347,)\n"
     ]
    }
   ],
   "source": [
    "print(X_train.head(2))\n",
    "print(y_train.head(2))\n",
    "print(X_train.shape)\n",
    "print(y_train.shape)\n",
    "print(X_test.shape)\n",
    "print(y_test.shape)"
   ]
  },
  {
   "cell_type": "code",
   "execution_count": 140,
   "metadata": {},
   "outputs": [],
   "source": [
    "from sklearn.feature_extraction.text import CountVectorizer"
   ]
  },
  {
   "cell_type": "code",
   "execution_count": 141,
   "metadata": {},
   "outputs": [],
   "source": [
    "def do_nothing(tokens):\n",
    "    return tokens\n",
    "\n",
    "bow_count = CountVectorizer(tokenizer=do_nothing,\n",
    "                             preprocessor=None,\n",
    "                             lowercase=False)"
   ]
  },
  {
   "cell_type": "code",
   "execution_count": 142,
   "metadata": {},
   "outputs": [],
   "source": [
    "X_train_bow_count = bow_count.fit_transform(X_train)\n",
    "X_test_bow_count = bow_count.transform(X_test)"
   ]
  },
  {
   "cell_type": "markdown",
   "metadata": {},
   "source": [
    "#### Model"
   ]
  },
  {
   "cell_type": "code",
   "execution_count": 143,
   "metadata": {},
   "outputs": [],
   "source": [
    "from sklearn.naive_bayes import MultinomialNB"
   ]
  },
  {
   "cell_type": "code",
   "execution_count": 144,
   "metadata": {},
   "outputs": [
    {
     "data": {
      "text/plain": [
       "MultinomialNB()"
      ]
     },
     "execution_count": 144,
     "metadata": {},
     "output_type": "execute_result"
    }
   ],
   "source": [
    "clf = MultinomialNB()\n",
    "clf.fit(X_train_bow_count, y_train)"
   ]
  },
  {
   "cell_type": "markdown",
   "metadata": {},
   "source": [
    "#### Ocena modelu"
   ]
  },
  {
   "cell_type": "code",
   "execution_count": 145,
   "metadata": {},
   "outputs": [
    {
     "name": "stdout",
     "output_type": "stream",
     "text": [
      "multiNB_bow_score na zbiorze treningowym: 0.988\n",
      "multiNB_bow_score na zbiorze testowym: 0.975\n"
     ]
    }
   ],
   "source": [
    "y_train_pred = clf.predict(X_train_bow_count)\n",
    "y_test_pred = clf.predict(X_test_bow_count)\n",
    "multiNB_bow_train_score = accuracy_score(y_train, y_train_pred)\n",
    "multiNB_bow_test_score = accuracy_score(y_test, y_test_pred)\n",
    "print(f\"multiNB_bow_score na zbiorze treningowym: {multiNB_bow_train_score:.3f}\")\n",
    "print(f\"multiNB_bow_score na zbiorze testowym: {multiNB_bow_test_score:.3f}\")"
   ]
  },
  {
   "cell_type": "code",
   "execution_count": 146,
   "metadata": {},
   "outputs": [
    {
     "name": "stdout",
     "output_type": "stream",
     "text": [
      "              precision    recall  f1-score   support\n",
      "\n",
      "   True news       0.96      0.99      0.97       630\n",
      "   Fake news       0.99      0.96      0.98       717\n",
      "\n",
      "    accuracy                           0.97      1347\n",
      "   macro avg       0.97      0.98      0.97      1347\n",
      "weighted avg       0.98      0.97      0.97      1347\n",
      "\n",
      "[[625   5]\n",
      " [ 29 688]]\n"
     ]
    }
   ],
   "source": [
    "print(classification_report(y_test, y_test_pred, target_names=['True news','Fake news']))\n",
    "print(confusion_matrix(y_test, y_test_pred))"
   ]
  },
  {
   "cell_type": "markdown",
   "metadata": {},
   "source": [
    "## Modele regresji logistycznej"
   ]
  },
  {
   "cell_type": "markdown",
   "metadata": {},
   "source": [
    "#### Przygotowanie danych do modelu TF-IDF"
   ]
  },
  {
   "cell_type": "code",
   "execution_count": 147,
   "metadata": {},
   "outputs": [],
   "source": [
    "X_train, X_test, y_train, y_test = train_test_split(news[\"text_cleaned\"], news[\"fake_news_flag\"], test_size=0.3, random_state=42)"
   ]
  },
  {
   "cell_type": "code",
   "execution_count": 148,
   "metadata": {},
   "outputs": [
    {
     "name": "stdout",
     "output_type": "stream",
     "text": [
      "17926     reuters about six in 10 people want british p...\n",
      "8181     president obama is nearing the end of his time...\n",
      "Name: text_cleaned, dtype: object\n",
      "17926    0\n",
      "8181     1\n",
      "Name: fake_news_flag, dtype: int64\n",
      "(3143,)\n",
      "(3143,)\n",
      "(1347,)\n",
      "(1347,)\n"
     ]
    }
   ],
   "source": [
    "print(X_train.head(2))\n",
    "print(y_train.head(2))\n",
    "print(X_train.shape)\n",
    "print(y_train.shape)\n",
    "print(X_test.shape)\n",
    "print(y_test.shape)"
   ]
  },
  {
   "cell_type": "code",
   "execution_count": 149,
   "metadata": {},
   "outputs": [],
   "source": [
    "from sklearn.feature_extraction.text import TfidfVectorizer"
   ]
  },
  {
   "cell_type": "code",
   "execution_count": 150,
   "metadata": {},
   "outputs": [],
   "source": [
    "tf_vectorizer = TfidfVectorizer()\n",
    "X_train_tf = tf_vectorizer.fit_transform(X_train)\n",
    "X_test_tf = tf_vectorizer.transform(X_test)"
   ]
  },
  {
   "cell_type": "code",
   "execution_count": 151,
   "metadata": {},
   "outputs": [
    {
     "name": "stdout",
     "output_type": "stream",
     "text": [
      "(3143, 38050)\n",
      "(1347, 38050)\n"
     ]
    }
   ],
   "source": [
    "print(X_train_tf.shape)\n",
    "print(X_test_tf.shape)"
   ]
  },
  {
   "cell_type": "markdown",
   "metadata": {},
   "source": [
    "#### Model"
   ]
  },
  {
   "cell_type": "code",
   "execution_count": 152,
   "metadata": {},
   "outputs": [],
   "source": [
    "from sklearn.linear_model import LogisticRegression"
   ]
  },
  {
   "cell_type": "code",
   "execution_count": 153,
   "metadata": {},
   "outputs": [],
   "source": [
    "clf = LogisticRegression(random_state=0, C=1000, max_iter=20)"
   ]
  },
  {
   "cell_type": "code",
   "execution_count": 154,
   "metadata": {},
   "outputs": [
    {
     "name": "stdout",
     "output_type": "stream",
     "text": [
      "CPU times: user 1.07 s, sys: 765 ms, total: 1.84 s\n",
      "Wall time: 791 ms\n"
     ]
    },
    {
     "name": "stderr",
     "output_type": "stream",
     "text": [
      "/opt/jupyterhub/lib/python3.6/site-packages/sklearn/linear_model/_logistic.py:764: ConvergenceWarning: lbfgs failed to converge (status=1):\n",
      "STOP: TOTAL NO. of ITERATIONS REACHED LIMIT.\n",
      "\n",
      "Increase the number of iterations (max_iter) or scale the data as shown in:\n",
      "    https://scikit-learn.org/stable/modules/preprocessing.html\n",
      "Please also refer to the documentation for alternative solver options:\n",
      "    https://scikit-learn.org/stable/modules/linear_model.html#logistic-regression\n",
      "  extra_warning_msg=_LOGISTIC_SOLVER_CONVERGENCE_MSG)\n"
     ]
    },
    {
     "data": {
      "text/plain": [
       "LogisticRegression(C=1000, max_iter=20, random_state=0)"
      ]
     },
     "execution_count": 154,
     "metadata": {},
     "output_type": "execute_result"
    }
   ],
   "source": [
    "%%time\n",
    "clf.fit(X_train_tf, y_train)"
   ]
  },
  {
   "cell_type": "markdown",
   "metadata": {},
   "source": [
    "#### Ocena modelu"
   ]
  },
  {
   "cell_type": "code",
   "execution_count": 155,
   "metadata": {},
   "outputs": [
    {
     "name": "stdout",
     "output_type": "stream",
     "text": [
      "Wynik regresji logistycznej na zbiorze treningowym: 1.000\n",
      "Wynik regresji logistycznej na zbiorze testowym: 0.982\n"
     ]
    }
   ],
   "source": [
    "y_train_pred = clf.predict(X_train_tf)\n",
    "y_test_pred = clf.predict(X_test_tf)\n",
    "LR_train_score = accuracy_score(y_train, y_train_pred)\n",
    "LR_test_score = accuracy_score(y_test, y_test_pred)\n",
    "print(f\"Wynik regresji logistycznej na zbiorze treningowym: {LR_train_score:.3f}\")\n",
    "print(f\"Wynik regresji logistycznej na zbiorze testowym: {LR_test_score:.3f}\")"
   ]
  },
  {
   "cell_type": "code",
   "execution_count": 156,
   "metadata": {},
   "outputs": [
    {
     "name": "stdout",
     "output_type": "stream",
     "text": [
      "              precision    recall  f1-score   support\n",
      "\n",
      "   True news       0.98      0.98      0.98       630\n",
      "   Fake news       0.98      0.98      0.98       717\n",
      "\n",
      "    accuracy                           0.98      1347\n",
      "   macro avg       0.98      0.98      0.98      1347\n",
      "weighted avg       0.98      0.98      0.98      1347\n",
      "\n",
      "[[619  11]\n",
      " [ 13 704]]\n"
     ]
    }
   ],
   "source": [
    "print(classification_report(y_test, y_test_pred, target_names=['True news','Fake news']))\n",
    "print(confusion_matrix(y_test, y_test_pred))"
   ]
  },
  {
   "cell_type": "markdown",
   "metadata": {},
   "source": [
    "#### Modelowanie z użyciem reprezentacji Latent Semantic Analysis"
   ]
  },
  {
   "cell_type": "markdown",
   "metadata": {},
   "source": [
    "#### Przygotowanie danych do modelu z redukcją danych do 2 wymiarów"
   ]
  },
  {
   "cell_type": "code",
   "execution_count": 157,
   "metadata": {},
   "outputs": [],
   "source": [
    "from sklearn.decomposition import TruncatedSVD"
   ]
  },
  {
   "cell_type": "code",
   "execution_count": 158,
   "metadata": {},
   "outputs": [],
   "source": [
    "svd = TruncatedSVD(random_state=42)\n",
    "x_train_svd = svd.fit_transform(X_train_tf)\n",
    "x_test_svd = svd.transform(X_test_tf)"
   ]
  },
  {
   "cell_type": "code",
   "execution_count": 159,
   "metadata": {},
   "outputs": [
    {
     "name": "stdout",
     "output_type": "stream",
     "text": [
      "(3143, 2)\n",
      "[0.01 0.01]\n",
      "Ile procent wariancji wyjaśniają wybrane wymiary macierzy SVD 0.03\n"
     ]
    }
   ],
   "source": [
    "print(x_train_svd.shape)\n",
    "print(svd.explained_variance_ratio_.round(2))\n",
    "print(f\"Ile procent wariancji wyjaśniają wybrane wymiary macierzy SVD {svd.explained_variance_ratio_.sum().round(2)}\")"
   ]
  },
  {
   "cell_type": "markdown",
   "metadata": {},
   "source": [
    "#### Model z redukcją danych do 2 wymiarów"
   ]
  },
  {
   "cell_type": "code",
   "execution_count": 160,
   "metadata": {},
   "outputs": [
    {
     "data": {
      "text/plain": [
       "LogisticRegression(C=1000, max_iter=20, random_state=0)"
      ]
     },
     "execution_count": 160,
     "metadata": {},
     "output_type": "execute_result"
    }
   ],
   "source": [
    "clf.fit(x_train_svd, y_train)"
   ]
  },
  {
   "cell_type": "markdown",
   "metadata": {},
   "source": [
    "#### Ocena modelu"
   ]
  },
  {
   "cell_type": "code",
   "execution_count": 161,
   "metadata": {},
   "outputs": [
    {
     "name": "stdout",
     "output_type": "stream",
     "text": [
      "              precision    recall  f1-score   support\n",
      "\n",
      "           0       0.80      0.79      0.79       638\n",
      "           1       0.81      0.82      0.82       709\n",
      "\n",
      "    accuracy                           0.81      1347\n",
      "   macro avg       0.81      0.81      0.81      1347\n",
      "weighted avg       0.81      0.81      0.81      1347\n",
      "\n"
     ]
    }
   ],
   "source": [
    "y_pred = clf.predict(x_test_svd)\n",
    "print(classification_report(y_pred, y_test))"
   ]
  },
  {
   "cell_type": "markdown",
   "metadata": {},
   "source": [
    "#### Przygotowanie danych do modelu z redukcją danych do 1000 wymiarów"
   ]
  },
  {
   "cell_type": "code",
   "execution_count": 162,
   "metadata": {},
   "outputs": [
    {
     "name": "stdout",
     "output_type": "stream",
     "text": [
      "Ile procent wariancji wyjaśniają wybrane wymiary macierzy SVD 0.66\n",
      "CPU times: user 6min 13s, sys: 7min 40s, total: 13min 53s\n",
      "Wall time: 2min 48s\n"
     ]
    }
   ],
   "source": [
    "%%time\n",
    "svd = TruncatedSVD(random_state=42, n_components = 1000, n_iter = 10)\n",
    "x_train_svd = svd.fit_transform(X_train_tf)\n",
    "print(f\"Ile procent wariancji wyjaśniają wybrane wymiary macierzy SVD {svd.explained_variance_ratio_.sum().round(2)}\")"
   ]
  },
  {
   "cell_type": "markdown",
   "metadata": {},
   "source": [
    "#### Model z redukcją danych do 1000 wymiarów"
   ]
  },
  {
   "cell_type": "code",
   "execution_count": 163,
   "metadata": {},
   "outputs": [],
   "source": [
    "x_test_svd = svd.transform(X_test_tf)"
   ]
  },
  {
   "cell_type": "markdown",
   "metadata": {},
   "source": [
    "#### Ocena modelu"
   ]
  },
  {
   "cell_type": "code",
   "execution_count": 164,
   "metadata": {},
   "outputs": [
    {
     "name": "stdout",
     "output_type": "stream",
     "text": [
      "Accuracy na zbiorze treningowym 1.000\n",
      "Accuracy na zbiorze testowym 0.981\n",
      "              precision    recall  f1-score   support\n",
      "\n",
      "           0       0.98      0.98      0.98       631\n",
      "           1       0.98      0.98      0.98       716\n",
      "\n",
      "    accuracy                           0.98      1347\n",
      "   macro avg       0.98      0.98      0.98      1347\n",
      "weighted avg       0.98      0.98      0.98      1347\n",
      "\n"
     ]
    },
    {
     "name": "stderr",
     "output_type": "stream",
     "text": [
      "/opt/jupyterhub/lib/python3.6/site-packages/sklearn/linear_model/_logistic.py:764: ConvergenceWarning: lbfgs failed to converge (status=1):\n",
      "STOP: TOTAL NO. of ITERATIONS REACHED LIMIT.\n",
      "\n",
      "Increase the number of iterations (max_iter) or scale the data as shown in:\n",
      "    https://scikit-learn.org/stable/modules/preprocessing.html\n",
      "Please also refer to the documentation for alternative solver options:\n",
      "    https://scikit-learn.org/stable/modules/linear_model.html#logistic-regression\n",
      "  extra_warning_msg=_LOGISTIC_SOLVER_CONVERGENCE_MSG)\n"
     ]
    }
   ],
   "source": [
    "clf.fit(x_train_svd, y_train)\n",
    "print(f\"Accuracy na zbiorze treningowym {accuracy_score(y_train, clf.predict(x_train_svd)):.3f}\")\n",
    "print(f\"Accuracy na zbiorze testowym {accuracy_score(y_test, clf.predict(x_test_svd)):.3f}\")\n",
    "y_pred = clf.predict(x_test_svd)\n",
    "print(classification_report(y_pred, y_test))"
   ]
  },
  {
   "cell_type": "markdown",
   "metadata": {},
   "source": [
    "## Modelowanie za pomocą Feature hashing/hashing trick"
   ]
  },
  {
   "cell_type": "markdown",
   "metadata": {},
   "source": [
    "#### Przygotowywanie danych"
   ]
  },
  {
   "cell_type": "code",
   "execution_count": 165,
   "metadata": {},
   "outputs": [],
   "source": [
    "from sklearn.feature_extraction.text import HashingVectorizer"
   ]
  },
  {
   "cell_type": "code",
   "execution_count": 166,
   "metadata": {},
   "outputs": [],
   "source": [
    "hash_vectorizer = HashingVectorizer(n_features=10000)\n",
    "# ?HashingVectorizer"
   ]
  },
  {
   "cell_type": "code",
   "execution_count": 167,
   "metadata": {},
   "outputs": [],
   "source": [
    "x_train_hash = hash_vectorizer.fit_transform(X_train)\n",
    "x_test_hash = hash_vectorizer.transform(X_test)"
   ]
  },
  {
   "cell_type": "code",
   "execution_count": 168,
   "metadata": {},
   "outputs": [
    {
     "data": {
      "text/plain": [
       "(3143, 10000)"
      ]
     },
     "execution_count": 168,
     "metadata": {},
     "output_type": "execute_result"
    }
   ],
   "source": [
    "x_train_hash.shape"
   ]
  },
  {
   "cell_type": "markdown",
   "metadata": {},
   "source": [
    "#### Model"
   ]
  },
  {
   "cell_type": "code",
   "execution_count": 169,
   "metadata": {},
   "outputs": [
    {
     "name": "stderr",
     "output_type": "stream",
     "text": [
      "/opt/jupyterhub/lib/python3.6/site-packages/sklearn/linear_model/_logistic.py:764: ConvergenceWarning: lbfgs failed to converge (status=1):\n",
      "STOP: TOTAL NO. of ITERATIONS REACHED LIMIT.\n",
      "\n",
      "Increase the number of iterations (max_iter) or scale the data as shown in:\n",
      "    https://scikit-learn.org/stable/modules/preprocessing.html\n",
      "Please also refer to the documentation for alternative solver options:\n",
      "    https://scikit-learn.org/stable/modules/linear_model.html#logistic-regression\n",
      "  extra_warning_msg=_LOGISTIC_SOLVER_CONVERGENCE_MSG)\n"
     ]
    },
    {
     "data": {
      "text/plain": [
       "LogisticRegression(C=1000, max_iter=20, random_state=0)"
      ]
     },
     "execution_count": 169,
     "metadata": {},
     "output_type": "execute_result"
    }
   ],
   "source": [
    "clf.fit(x_train_hash, y_train)"
   ]
  },
  {
   "cell_type": "markdown",
   "metadata": {},
   "source": [
    "#### Ocena modelu"
   ]
  },
  {
   "cell_type": "code",
   "execution_count": 170,
   "metadata": {},
   "outputs": [
    {
     "name": "stdout",
     "output_type": "stream",
     "text": [
      "Accuracy na zbiorze treningowym 1.000\n",
      "Accuracy na zbiorze testowym 0.986\n",
      "              precision    recall  f1-score   support\n",
      "\n",
      "           0       0.99      0.98      0.98       631\n",
      "           1       0.99      0.99      0.99       716\n",
      "\n",
      "    accuracy                           0.99      1347\n",
      "   macro avg       0.99      0.99      0.99      1347\n",
      "weighted avg       0.99      0.99      0.99      1347\n",
      "\n"
     ]
    },
    {
     "name": "stderr",
     "output_type": "stream",
     "text": [
      "/opt/jupyterhub/lib/python3.6/site-packages/sklearn/linear_model/_logistic.py:764: ConvergenceWarning: lbfgs failed to converge (status=1):\n",
      "STOP: TOTAL NO. of ITERATIONS REACHED LIMIT.\n",
      "\n",
      "Increase the number of iterations (max_iter) or scale the data as shown in:\n",
      "    https://scikit-learn.org/stable/modules/preprocessing.html\n",
      "Please also refer to the documentation for alternative solver options:\n",
      "    https://scikit-learn.org/stable/modules/linear_model.html#logistic-regression\n",
      "  extra_warning_msg=_LOGISTIC_SOLVER_CONVERGENCE_MSG)\n"
     ]
    }
   ],
   "source": [
    "clf.fit(x_train_hash, y_train)\n",
    "print(f\"Accuracy na zbiorze treningowym {accuracy_score(y_train, clf.predict(x_train_hash)):.3f}\")\n",
    "print(f\"Accuracy na zbiorze testowym {accuracy_score(y_test, clf.predict(x_test_hash)):.3f}\")\n",
    "y_pred = clf.predict(x_test_hash)\n",
    "print(classification_report(y_pred, y_test))"
   ]
  },
  {
   "cell_type": "code",
   "execution_count": null,
   "metadata": {},
   "outputs": [],
   "source": []
  }
 ],
 "metadata": {
  "kernelspec": {
   "display_name": "Python 3",
   "language": "python",
   "name": "python3"
  },
  "language_info": {
   "codemirror_mode": {
    "name": "ipython",
    "version": 3
   },
   "file_extension": ".py",
   "mimetype": "text/x-python",
   "name": "python",
   "nbconvert_exporter": "python",
   "pygments_lexer": "ipython3",
   "version": "3.6.9"
  }
 },
 "nbformat": 4,
 "nbformat_minor": 4
}
